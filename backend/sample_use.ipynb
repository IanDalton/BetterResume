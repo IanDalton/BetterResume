{
 "cells": [
  {
   "cell_type": "code",
   "execution_count": 1,
   "metadata": {},
   "outputs": [],
   "source": [
    "JOB_PROMPT = \"\"\"Analista de Marketing, contacto y seguimiento con el cliente, planificación de campañas, análisis de base de datos de marketing, análisis de métricas, creación de dashboards y reportes, estrategia comercial, identificación de oportunidades y tendencias. \"\"\"\n",
    "\n",
    "JOB_PROMPT_SPANISH = \"\"\"¿Quiénes somos?\n",
    "\n",
    "Somos la empresa de tecnología y negocios más prestigiosa de Iberoamérica. Nuestra red regional permite responder rápidamente a la demanda, con especialistas en cada problemática y aplicando innovación tecnológica a cada negocio.\n",
    "\n",
    "\n",
    "\n",
    "📢 ¿Qué buscamos?\n",
    "\n",
    "Nos encontramos en la búsqueda de Data Scientist.\n",
    "\n",
    "\n",
    "\n",
    "\n",
    "\n",
    "📢 ¿Qué tareas deberá hacer el perfil que se sume?\n",
    "\n",
    "Desarrollo con Python y/o R.\n",
    "Conocimiento de librerías como pandas y sklearn. También librerías de visualización, como matplotlib, pyplot, seaborn.\n",
    "Lenguaje de consulta SQL.\n",
    "Aplicar las siguientes técnicas: modelos de regresión, clasificación, series temporales, árboles, ensambles, redes neuronales, técnicas de clustering y reducción de dimensionalidad.\n",
    "\n",
    "\n",
    "\n",
    "\n",
    "¿Qué necesitamos? 💪\n",
    "\n",
    "\n",
    "\n",
    "2 años de experiencia como científico/a de datos.\n",
    "Experiencia en trabajo en modelos predictivos.\n",
    "Experiencia en IA Generativa.\n",
    "Deseable experiencia en metodologías ágiles.\n",
    "Poseer conocimientos sobre modelos supervisados y no supervisados, evaluación de modelos, balanceo de datos.\n",
    "Tener conocimientos en temas de machine learning.\n",
    "Conocimiento de estadística básica aplicada a Ciencia de Datos\n",
    "Capacidad de transmisión de conocimientos y presentación de resultados de forma asertiva\n",
    "Conocimiento de buenas prácticas de programación\n",
    "Manejo de plataformas Cloud (preferentemente Azure)\n",
    "\n",
    "\n",
    "♥ ¿Qué beneficios te ofrecemos?\n",
    "\n",
    "Licencia extendida para días de estudio.\n",
    "Días de licencia personal para usar como más te guste.\n",
    "Días de home office.\n",
    "La posibilidad de crecer profesionalmente en un ambiente dinámico y flexible.\n",
    "Formación profesional relacionada con el perfil.\n",
    "Capacitación en herramientas de gestión, liderazgo y tecnologías.\n",
    "Descuentos en Universidades e Instituciones Tecnológicas para Maestrías, Postgrados y Cursos.\n",
    "Clases de Inglés In company.\n",
    "Prepaga de primer nivel para el grupo familiar.\n",
    "\"\"\"\n"
   ]
  },
  {
   "cell_type": "code",
   "execution_count": 2,
   "metadata": {},
   "outputs": [],
   "source": [
    "from bot import Bot\n",
    "from resume import WordResumeWriter,LatexResumeWriter\n",
    "from llm.gemini_tool import GeminiTool\n",
    "from dotenv import load_dotenv\n",
    "_ = load_dotenv()\n"
   ]
  },
  {
   "cell_type": "code",
   "execution_count": 3,
   "metadata": {},
   "outputs": [],
   "source": [
    "bot = Bot(writer=LatexResumeWriter(),llm=GeminiTool(model=\"gemini-2.5-flash\"))"
   ]
  },
  {
   "cell_type": "code",
   "execution_count": 4,
   "metadata": {},
   "outputs": [],
   "source": [
    "resume_json = bot.generate_resume(JOB_PROMPT_SPANISH)\n"
   ]
  }
 ],
 "metadata": {
  "kernelspec": {
   "display_name": ".conda",
   "language": "python",
   "name": "python3"
  },
  "language_info": {
   "codemirror_mode": {
    "name": "ipython",
    "version": 3
   },
   "file_extension": ".py",
   "mimetype": "text/x-python",
   "name": "python",
   "nbconvert_exporter": "python",
   "pygments_lexer": "ipython3",
   "version": "3.12.9"
  }
 },
 "nbformat": 4,
 "nbformat_minor": 2
}
