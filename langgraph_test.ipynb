{
 "cells": [
  {
   "cell_type": "code",
   "execution_count": 1,
   "metadata": {},
   "outputs": [],
   "source": [
    "from langchain_community.document_loaders.csv_loader import CSVLoader\n",
    "loader = CSVLoader(\n",
    "    file_path=\"jobs.csv\"\n",
    ")\n",
    "data = loader.load()\n",
    "from langchain_openai.chat_models.base import ChatOpenAI\n",
    "\n",
    "from langchain_core.messages import HumanMessage,AIMessage,SystemMessage,BaseMessage\n",
    "llm = ChatOpenAI(\n",
    "            base_url=\"http://localhost:1234/v1\",\n",
    "            api_key=\"not_needed\",\n",
    "            model=\"gemma-2-27b-it\"\n",
    "        )"
   ]
  },
  {
   "cell_type": "code",
   "execution_count": 2,
   "metadata": {},
   "outputs": [
    {
     "data": {
      "text/plain": [
       "'Documents added successfully.'"
      ]
     },
     "execution_count": 2,
     "metadata": {},
     "output_type": "execute_result"
    }
   ],
   "source": [
    "from typing import Any\n",
    "from langchain.tools import BaseTool\n",
    "import chromadb\n",
    "from chromadb.config import Settings\n",
    "from pydantic import Field, PrivateAttr\n",
    "\n",
    "class ChromaDBTool(BaseTool):\n",
    "    name: str = \"ChromaDBTool\"\n",
    "    description: str = (\n",
    "        \"A tool that interfaces with a ChromaDB database to retrieve information. \"\n",
    "        \"It initializes a connection to a specified collection and runs queries against it.\"\n",
    "    )\n",
    "    collection_name: str = Field(default=\"default_collection\")\n",
    "    persist_directory: str = Field(default=\"./chroma_db\")\n",
    "\n",
    "    # Declare private attributes for runtime-only properties.\n",
    "    _client: Any = PrivateAttr()\n",
    "    _collection: Any = PrivateAttr()\n",
    "\n",
    "    def __init__(self):\n",
    "        super().__init__()\n",
    "        self._client = chromadb.Client(Settings(persist_directory=self.persist_directory))\n",
    "        try:\n",
    "            self._collection = self._client.get_collection(name=self.collection_name)\n",
    "        except Exception as e:\n",
    "            self._collection = self._client.create_collection(name=self.collection_name)\n",
    "      \n",
    "    def add_document(self, document: str, id: str):\n",
    "        \"\"\"\n",
    "        Add a document to the ChromaDB collection.\n",
    "        \"\"\"\n",
    "        try:\n",
    "            self._collection.add(documents=[document], ids=[id])\n",
    "            return \"Document added successfully.\"\n",
    "        except Exception as e:\n",
    "            return f\"Error adding document: {e}\"\n",
    "    def add_documents(self, documents: list, ids: list):\n",
    "        \"\"\"\n",
    "        Add multiple documents to the ChromaDB collection.\n",
    "        \"\"\"\n",
    "        try:\n",
    "            self._collection.add(documents=documents, ids=ids)\n",
    "            return \"Documents added successfully.\"\n",
    "        except Exception as e:\n",
    "            return f\"Error adding documents: {e}\"\n",
    "    def _run(self, query: str, **kwargs):\n",
    "        print(\"chromadb\")\n",
    "        \"\"\"\n",
    "        Synchronous method to query the ChromaDB collection.\n",
    "        Expects a text query and returns the query results.\n",
    "        \"\"\"\n",
    "        try:\n",
    "            results = self._collection.query(query_texts=[query],n_results=2)\n",
    "            return list(zip(results[\"documents\"][0],results[\"distances\"][0]))\n",
    "        except Exception as e:\n",
    "            return f\"Error querying the database: {e}\"\n",
    "\n",
    "    async def _arun(self, query: str, **kwargs):\n",
    "        \"\"\"\n",
    "        Asynchronous version of the _run method.\n",
    "        Currently, this calls the synchronous version for simplicity.\n",
    "        \"\"\"\n",
    "        return self._run(query, **kwargs)\n",
    "tool = ChromaDBTool()\n",
    "tool.add_documents([d.page_content for d in data], [str(i) for i in range(len(data))])"
   ]
  },
  {
   "cell_type": "code",
   "execution_count": 3,
   "metadata": {},
   "outputs": [
    {
     "name": "stdout",
     "output_type": "stream",
     "text": [
      "chromadb\n"
     ]
    },
    {
     "data": {
      "text/plain": [
       "[(\"type: contract\\ncompany: Somos Feed\\nlocation: Argentina\\nrole: Data Architect\\nstart_date: 01/07/2024\\nend_date: 01/12/2024\\ndescription: Python, Django, Javascript, SQLite. Designed and built the backend infrastructure on Django for the company to automate the process of data gathering from all its different providers. Generated the ETL pipeline to load the information onto the database from google sheet files and created the machine learning algorithm to be trained weekly on the previous week's data to estimate sales and reduce waste, genrating up to a 68% of waste reduction and increasing the benefits of the company by 30%. The solutiopn also freed time of other data scientists in the team that were previously just cleaning data.\",\n",
       "  1.5428789854049683),\n",
       " ('type: non-profit\\ncompany: CEITBA\\nlocation: Argentina\\nrole: Lead Developer\\nstart_date: 01/03/2021\\nend_date: 01/03/2025\\ndescription: Python, Javascript, React, Dart, Flutter. Led a team of five in developing a Flutter-based mobile application for CEITBA, utilizing Firebase and Google Cloud for scalability. Automated administrative tasks with AI-based tools, optimizing student registrations, withdrawals, and query responses.',\n",
       "  1.5849837064743042)]"
      ]
     },
     "execution_count": 3,
     "metadata": {},
     "output_type": "execute_result"
    }
   ],
   "source": [
    "tool.invoke(\"Java\")"
   ]
  },
  {
   "cell_type": "code",
   "execution_count": 4,
   "metadata": {},
   "outputs": [],
   "source": [
    "\n",
    "llm_with_tools = llm.bind_tools([tool])"
   ]
  },
  {
   "cell_type": "code",
   "execution_count": 5,
   "metadata": {},
   "outputs": [
    {
     "data": {
      "text/plain": [
       "<langgraph.graph.state.StateGraph at 0x19294fa21b0>"
      ]
     },
     "execution_count": 5,
     "metadata": {},
     "output_type": "execute_result"
    }
   ],
   "source": [
    "from typing import Annotated\n",
    "\n",
    "from typing_extensions import TypedDict\n",
    "\n",
    "from langgraph.graph import StateGraph, START, END\n",
    "from langgraph.graph.message import add_messages\n",
    "\n",
    "\n",
    "class State(TypedDict):\n",
    "    # Messages have the type \"list\". The `add_messages` function\n",
    "    # in the annotation defines how this state key should be updated\n",
    "    # (in this case, it appends messages to the list, rather than overwriting them)\n",
    "    messages: Annotated[list, add_messages]\n",
    "\n",
    "\n",
    "graph_builder = StateGraph(State)\n",
    "\n",
    "def chatbot(state: State):\n",
    "    print('chatbot message')\n",
    "    return {\"messages\": [llm_with_tools.invoke(state[\"messages\"])]}\n",
    "\n",
    "\n",
    "# The first argument is the unique node name\n",
    "# The second argument is the function or object that will be called whenever\n",
    "# the node is used.\n",
    "graph_builder.add_node(\"chatbot\", chatbot)"
   ]
  },
  {
   "cell_type": "code",
   "execution_count": 6,
   "metadata": {},
   "outputs": [
    {
     "data": {
      "text/plain": [
       "<langgraph.graph.state.StateGraph at 0x19294fa21b0>"
      ]
     },
     "execution_count": 6,
     "metadata": {},
     "output_type": "execute_result"
    }
   ],
   "source": [
    "import json\n",
    "\n",
    "from langchain_core.messages import ToolMessage\n",
    "\n",
    "\n",
    "\n",
    "\n",
    "class BasicToolNode:\n",
    "    \"\"\"A node that runs the tools requested in the last AIMessage.\"\"\"\n",
    "\n",
    "    def __init__(self, tools: list) -> None:\n",
    "        self.tools_by_name = {tool.name: tool for tool in tools}\n",
    "\n",
    "    def __call__(self, inputs: dict):\n",
    "        print('tools message')\n",
    "        if messages := inputs.get(\"messages\", []):\n",
    "            message = messages[-1]\n",
    "        else:\n",
    "            raise ValueError(\"No message found in input\")\n",
    "        outputs = []\n",
    "        for tool_call in message.tool_calls:\n",
    "            print(tool_call[\"args\"])\n",
    "            tool_result = self.tools_by_name[\"ChromaDBTool\"].invoke(\n",
    "                tool_call[\"args\"]\n",
    "            )\n",
    "            print(tool_result)\n",
    "            outputs.append(\n",
    "                ToolMessage(\n",
    "                    content=json.dumps(tool_result),\n",
    "                    name=tool_call[\"name\"],\n",
    "                    tool_call_id=tool_call[\"id\"],\n",
    "                )\n",
    "            )\n",
    "        return {\"messages\": outputs}\n",
    "\n",
    "\n",
    "tool_node = BasicToolNode(tools=[tool])\n",
    "\n",
    "graph_builder.add_node(\"tools\", tool_node)"
   ]
  },
  {
   "cell_type": "code",
   "execution_count": 7,
   "metadata": {},
   "outputs": [
    {
     "data": {
      "text/plain": [
       "{'ChromaDBTool': ChromaDBTool()}"
      ]
     },
     "execution_count": 7,
     "metadata": {},
     "output_type": "execute_result"
    }
   ],
   "source": [
    "tool_node.tools_by_name"
   ]
  },
  {
   "cell_type": "code",
   "execution_count": 8,
   "metadata": {},
   "outputs": [],
   "source": [
    "def route_tools(\n",
    "        state:State\n",
    "):\n",
    "    if isinstance(state, list):\n",
    "        message = state[-1]\n",
    "    elif messages := state.get(\"messages\", []):\n",
    "        message = messages[-1]\n",
    "    else:\n",
    "        raise ValueError(\"No message found in input\")\n",
    "    if hasattr(message, \"tool_calls\") and len(message.tool_calls) > 0:\n",
    "        return \"tools\"\n",
    "    return END\n",
    "graph_builder.add_edge(START, \"chatbot\")\n",
    "graph_builder.add_conditional_edges(\"chatbot\", route_tools ,{\"tools\": \"tools\", END: END})\n",
    "graph_builder.add_edge(\"tools\", \"chatbot\")\n",
    "\n",
    "graph = graph_builder.compile()"
   ]
  },
  {
   "cell_type": "code",
   "execution_count": 9,
   "metadata": {},
   "outputs": [
    {
     "data": {
      "image/png": "[encoded data removed]",
      "text/plain": [
       "<IPython.core.display.Image object>"
      ]
     },
     "metadata": {},
     "output_type": "display_data"
    }
   ],
   "source": [
    "from IPython.display import Image, display\n",
    "\n",
    "try:\n",
    "    display(Image(graph.get_graph().draw_mermaid_png()))\n",
    "except Exception:\n",
    "    # This requires some extra dependencies and is optional\n",
    "    pass"
   ]
  },
  {
   "cell_type": "code",
   "execution_count": 10,
   "metadata": {},
   "outputs": [
    {
     "name": "stdout",
     "output_type": "stream",
     "text": [
      "chatbot message\n",
      "tools message\n",
      "{'query': 'SQL database design experience'}\n",
      "chromadb\n",
      "[('type: job\\ncompany: Accenture\\nlocation: Argentina\\nrole: Data Engineer\\nstart_date: 01/08/2024\\nend_date: \\ndescription: Python, SQL, Javascript, Google sheets. Developed and integrated AI-driven solutions for a large bank, utilizing LangChain and RAGs to enhance LLM capabilities. Implemented voice message processing and structured data queries, improving system response accuracy. Collaborated in Agile sprints, contributing to increased system efficiency and performance. Used Data scraping techniques to gather information for my vector database (chromaDB) and deployed it on Azure using github actions with testing and CI/CD to ensure consistency on the product. Also worked on ETL pipelines to upload and generate a system to detect anomalies in the machine in order to prevent sudden breakdowns', 1.4754233360290527), ('type: job\\ncompany: Turbodato\\nlocation: Argentina\\nrole: Data Architect\\nstart_date: 01/01/2024\\nend_date: 01/12/2024\\ndescription: Python, SQL, Azure Database. Designed and built the startup’s backend infrastructure with a focus on scalability and automation. Developed web scraping bots to collect competitive business intelligence for clients like Itaú Bank and Cebra Jugueterías. Created interactive dashboards using Power BI, enabling real-time decision-making.', 1.4990053176879883)]\n",
      "{'query': 'C# experience'}\n",
      "chromadb\n",
      "[('type: job\\ncompany: Accenture\\nlocation: Argentina\\nrole: Data Engineer\\nstart_date: 01/08/2024\\nend_date: \\ndescription: Python, SQL, Javascript, Google sheets. Developed and integrated AI-driven solutions for a large bank, utilizing LangChain and RAGs to enhance LLM capabilities. Implemented voice message processing and structured data queries, improving system response accuracy. Collaborated in Agile sprints, contributing to increased system efficiency and performance. Used Data scraping techniques to gather information for my vector database (chromaDB) and deployed it on Azure using github actions with testing and CI/CD to ensure consistency on the product. Also worked on ETL pipelines to upload and generate a system to detect anomalies in the machine in order to prevent sudden breakdowns', 1.5888159275054932), ('type: job\\ncompany: Better Resume\\nlocation: Argentina\\nrole: Software Developer\\nstart_date: 01/03/2025\\nend_date: \\ndescription: Python, Vector Database, fastapi. Developed a web app that the user can use to create a resume using LLMs and RAGs to generate a resume tailored to the specific position description. It was built using ChromaDB for the vector database, a locally hosted model and fastapi with a basic javascript frontend. The data is currently stored in a csv so the user can load and modify the data on a familiar format.', 1.638282299041748)]\n",
      "{'query': 'Azure Data Factory experience'}\n",
      "chromadb\n",
      "[('type: job\\ncompany: Accenture\\nlocation: Argentina\\nrole: Data Engineer\\nstart_date: 01/08/2024\\nend_date: \\ndescription: Python, SQL, Javascript, Google sheets. Developed and integrated AI-driven solutions for a large bank, utilizing LangChain and RAGs to enhance LLM capabilities. Implemented voice message processing and structured data queries, improving system response accuracy. Collaborated in Agile sprints, contributing to increased system efficiency and performance. Used Data scraping techniques to gather information for my vector database (chromaDB) and deployed it on Azure using github actions with testing and CI/CD to ensure consistency on the product. Also worked on ETL pipelines to upload and generate a system to detect anomalies in the machine in order to prevent sudden breakdowns', 1.0290191173553467), ('type: job\\ncompany: Turbodato\\nlocation: Argentina\\nrole: Data Architect\\nstart_date: 01/01/2024\\nend_date: 01/12/2024\\ndescription: Python, SQL, Azure Database. Designed and built the startup’s backend infrastructure with a focus on scalability and automation. Developed web scraping bots to collect competitive business intelligence for clients like Itaú Bank and Cebra Jugueterías. Created interactive dashboards using Power BI, enabling real-time decision-making.', 1.093881368637085)]\n",
      "{'query': 'data modeling experience'}\n",
      "chromadb\n",
      "[(\"type: contract\\ncompany: Somos Feed\\nlocation: Argentina\\nrole: Data Architect\\nstart_date: 01/07/2024\\nend_date: 01/12/2024\\ndescription: Python, Django, Javascript, SQLite. Designed and built the backend infrastructure on Django for the company to automate the process of data gathering from all its different providers. Generated the ETL pipeline to load the information onto the database from google sheet files and created the machine learning algorithm to be trained weekly on the previous week's data to estimate sales and reduce waste, genrating up to a 68% of waste reduction and increasing the benefits of the company by 30%. The solutiopn also freed time of other data scientists in the team that were previously just cleaning data.\", 1.2369258403778076), ('type: job\\ncompany: Accenture\\nlocation: Argentina\\nrole: Data Engineer\\nstart_date: 01/08/2024\\nend_date: \\ndescription: Python, SQL, Javascript, Google sheets. Developed and integrated AI-driven solutions for a large bank, utilizing LangChain and RAGs to enhance LLM capabilities. Implemented voice message processing and structured data queries, improving system response accuracy. Collaborated in Agile sprints, contributing to increased system efficiency and performance. Used Data scraping techniques to gather information for my vector database (chromaDB) and deployed it on Azure using github actions with testing and CI/CD to ensure consistency on the product. Also worked on ETL pipelines to upload and generate a system to detect anomalies in the machine in order to prevent sudden breakdowns', 1.3902695178985596)]\n",
      "{'query': 'experience with Power Apps'}\n",
      "chromadb\n",
      "[('type: non-profit\\ncompany: CEITBA\\nlocation: Argentina\\nrole: Lead Developer\\nstart_date: 01/03/2021\\nend_date: 01/03/2025\\ndescription: Python, Javascript, React, Dart, Flutter. Led a team of five in developing a Flutter-based mobile application for CEITBA, utilizing Firebase and Google Cloud for scalability. Automated administrative tasks with AI-based tools, optimizing student registrations, withdrawals, and query responses.', 1.29900324344635), ('type: job\\ncompany: Turbodato\\nlocation: Argentina\\nrole: Data Architect\\nstart_date: 01/01/2024\\nend_date: 01/12/2024\\ndescription: Python, SQL, Azure Database. Designed and built the startup’s backend infrastructure with a focus on scalability and automation. Developed web scraping bots to collect competitive business intelligence for clients like Itaú Bank and Cebra Jugueterías. Created interactive dashboards using Power BI, enabling real-time decision-making.', 1.391035556793213)]\n",
      "chatbot message\n"
     ]
    }
   ],
   "source": [
    "PROMPT = \"\"\"You are BetterResume, an open-source tool that helps users create the best possible resumes optimized for ATS AI scanners.  \n",
    "\n",
    "The user has granted you access to their full job experience, which is stored in a vector database. You can retrieve relevant information from this database by calling `ChromaDBTool` with the argument `query: str`. This will return the most relevant job experience for inclusion in the resume.  \n",
    "\n",
    "**Instructions:**  \n",
    "1. **Make at least one call to `ChromaDBTool`** to retrieve relevant experience.  \n",
    "2. **Make multiple tool calls (at least 4!) according to the different skills asked for in the description** to gather more data.  \n",
    "3. **Wait for the tool's response(s), then format and return the information as a structured JSON object.**  \n",
    "4. **Extract skills, languages, and technologies ONLY if they are explicitly mentioned in the retrieved job descriptions.**  \n",
    "5. **Include at least 3 experiences in the resume output.** It doesnt have to be a job, can be other stuf like contract, volunteer, etc.\n",
    "6. **Ensure the output follows this JSON format:**  \n",
    "\n",
    "```json\n",
    "{\n",
    "  \"resume_section\": {\n",
    "    \"title\": \"Title describing the job that the user is applying for\",\n",
    "    \"experience\": [\n",
    "      {\n",
    "        \"position\": \"Job Title\",\n",
    "        \"company\": \"Company Name\",\n",
    "        \"location\": \"Location\",\n",
    "        \"start_date\": \"Month Year\",\n",
    "        \"end_date\": \"Month Year or Present\",\n",
    "        \"description\": \"Detailed job description and achievements.\"\n",
    "      }\n",
    "    ],\n",
    "    \"skills\": {\n",
    "      \"languages\": [\"List of programming languages\"],\n",
    "      \"databases\": [\"List of databases\"],\n",
    "      \"tools_and_technologies\": [\"List of tools, frameworks, and methodologies\"]\n",
    "    }\n",
    "  }\n",
    "}\n",
    "```\n",
    "Do not include additional text, explanations, or formatting outside of the JSON output.\n",
    "\n",
    "Do not include languages that are not implied by the database query.\n",
    "\n",
    "Ensure consistency in date formatting and job descriptions to maintain a professional resume output.\n",
    "\n",
    "If you understand, proceed with handling the user request.\n",
    "\"\"\"\n",
    "\n",
    "JOB_PROMPT = \"\"\"About the job\n",
    "Job Description: Azure & SQL Data Engineer\n",
    "\n",
    " \n",
    "\n",
    "As a Data Engineer, you will be responsible for designing, implementing, and maintaining data solutions with a strong focus on SQL databases. You will collaborate with cross-functional teams to gather requirements, design efficient and robust SQL queries, and ensure data integrity and security.\n",
    "\n",
    " \n",
    "\n",
    "Responsibilities:\n",
    "\n",
    "\n",
    "\n",
    "· Collaborate with stakeholders to gather data requirements and translate them into technical specifications.\n",
    "\n",
    "· Build and optimize SQL queries for data ingestion, transformation, and storage.\n",
    "\n",
    "· Utilize Azure Data Factory for data orchestration and workflow automation.\n",
    "\n",
    "· Monitor and troubleshoot SQL databases to ensure performance and availability.\n",
    "\n",
    "· Work closely with data scientists and analysts to support their data needs through optimized SQL queries and reporting tools.\n",
    "\n",
    "· Stay up-to-date with the latest trends and advancements in SQL data engineering and recommend best practices to enhance data solutions.\n",
    "\n",
    " \n",
    "\n",
    "Qualifications:\n",
    "\n",
    "\n",
    "\n",
    "· 3+ years of proven experience as a data engineer with a strong focus on SQL.\n",
    "\n",
    "· Strong expertise in C#, SQL and extensive experience with data modeling and database design.\n",
    "\n",
    "· Excellent problem-solving and analytical skills.\n",
    "\n",
    "· Knowledge of data governance and data security principles.\n",
    "\n",
    "· Strong communication and collaboration abilities.\n",
    "\n",
    "· It is desired familiarity with Power Apps.\n",
    "\n",
    "· Ideally, but not mandatory, familiarity with Azure data services such as Azure SQL Database, Azure Data Factory, etc.\"\"\"\n",
    "\n",
    "response = graph.invoke({\"messages\": [{\"role\": \"system\", \"content\": PROMPT},\n",
    "                           {\"role\": \"user\", \"content\": JOB_PROMPT}]})"
   ]
  },
  {
   "cell_type": "code",
   "execution_count": 11,
   "metadata": {},
   "outputs": [
    {
     "data": {
      "text/markdown": [
       "```json\n",
       "{\n",
       "  \"resume_section\": {\n",
       "    \"title\": \"Azure & SQL Data Engineer\",\n",
       "    \"experience\": [\n",
       "      {\n",
       "        \"position\": \"Data Engineer\",\n",
       "        \"company\": \"Accenture\",\n",
       "        \"location\": \"Argentina\",\n",
       "        \"start_date\": \"01/08/2024\",\n",
       "        \"end_date\": \"Present\",\n",
       "        \"description\": \"Developed and integrated AI-driven solutions for a large bank, utilizing LangChain and RAGs to enhance LLM capabilities. Implemented voice message processing and structured data queries, improving system response accuracy. Collaborated in Agile sprints, contributing to increased system efficiency and performance. Used Data scraping techniques to gather information for my vector database (chromaDB) and deployed it on Azure using github actions with testing and CI/CD to ensure consistency on the product. Also worked on ETL pipelines to upload and generate a system to detect anomalies in the machine in order to prevent sudden breakdowns\"\n",
       "      },\n",
       "      {\n",
       "        \"position\": \"Data Architect\",\n",
       "        \"company\": \"Turbodato\",\n",
       "        \"location\": \"Argentina\",\n",
       "        \"start_date\": \"01/01/2024\",\n",
       "        \"end_date\": \"01/12/2024\",\n",
       "        \"description\": \"Designed and built the startup’s backend infrastructure with a focus on scalability and automation. Developed web scraping bots to collect competitive business intelligence for clients like Itaú Bank and Cebra Jugueterías. Created interactive dashboards using Power BI, enabling real-time decision-making.\"\n",
       "      },\n",
       "      {\n",
       "        \"position\": \"Lead Developer\",\n",
       "        \"company\": \"CEITBA\",\n",
       "        \"location\": \"Argentina\",\n",
       "        \"start_date\": \"01/03/2021\",\n",
       "        \"end_date\": \"01/03/2025\",\n",
       "        \"description\": \"Led a team of five in developing a Flutter-based mobile application for CEITBA, utilizing Firebase and Google Cloud for scalability. Automated administrative tasks with AI-based tools, optimizing student registrations, withdrawals, and query responses.\"\n",
       "      }\n",
       "\n",
       "    ],\n",
       "    \"skills\": {\n",
       "      \"languages\": [\"Python\", \"Javascript\", \"SQL\"],\n",
       "      \"databases\": [\"Azure SQL Database\", \"SQLite\"],\n",
       "      \"tools_and_technologies\": [\"LangChain\", \"RAGs\",\"Power BI\",\"Flutter\",\"Firebase\",\"Google Cloud\",\"Django\",\"chromaDB\", \"github actions\",\"CI/CD\"]\n",
       "    }\n",
       "  }\n",
       "}\n",
       "```"
      ],
      "text/plain": [
       "<IPython.core.display.Markdown object>"
      ]
     },
     "execution_count": 11,
     "metadata": {},
     "output_type": "execute_result"
    }
   ],
   "source": [
    "text = response[\"messages\"][-1].content\n",
    "\n",
    "from IPython.display import Markdown\n",
    "Markdown(text)"
   ]
  },
  {
   "cell_type": "code",
   "execution_count": 12,
   "metadata": {},
   "outputs": [
    {
     "data": {
      "text/plain": [
       "{'messages': [SystemMessage(content='You are BetterResume, an open-source tool that helps users create the best possible resumes optimized for ATS AI scanners.  \\n\\nThe user has granted you access to their full job experience, which is stored in a vector database. You can retrieve relevant information from this database by calling `ChromaDBTool` with the argument `query: str`. This will return the most relevant job experience for inclusion in the resume.  \\n\\n**Instructions:**  \\n1. **Make at least one call to `ChromaDBTool`** to retrieve relevant experience.  \\n2. **Make multiple tool calls (at least 4!) according to the different skills asked for in the description** to gather more data.  \\n3. **Wait for the tool\\'s response(s), then format and return the information as a structured JSON object.**  \\n4. **Extract skills, languages, and technologies ONLY if they are explicitly mentioned in the retrieved job descriptions.**  \\n5. **Include at least 3 experiences in the resume output.** It doesnt have to be a job, can be other stuf like contract, volunteer, etc.\\n6. **Ensure the output follows this JSON format:**  \\n\\n```json\\n{\\n  \"resume_section\": {\\n    \"title\": \"Title describing the job that the user is applying for\",\\n    \"experience\": [\\n      {\\n        \"position\": \"Job Title\",\\n        \"company\": \"Company Name\",\\n        \"location\": \"Location\",\\n        \"start_date\": \"Month Year\",\\n        \"end_date\": \"Month Year or Present\",\\n        \"description\": \"Detailed job description and achievements.\"\\n      }\\n    ],\\n    \"skills\": {\\n      \"languages\": [\"List of programming languages\"],\\n      \"databases\": [\"List of databases\"],\\n      \"tools_and_technologies\": [\"List of tools, frameworks, and methodologies\"]\\n    }\\n  }\\n}\\n```\\nDo not include additional text, explanations, or formatting outside of the JSON output.\\n\\nDo not include languages that are not implied by the database query.\\n\\nEnsure consistency in date formatting and job descriptions to maintain a professional resume output.\\n\\nIf you understand, proceed with handling the user request.\\n', additional_kwargs={}, response_metadata={}, id='60b7b692-78d2-483d-9703-22aab803d270'),\n",
       "  HumanMessage(content='About the job\\nJob Description: Azure & SQL Data Engineer\\n\\n \\n\\nAs a Data Engineer, you will be responsible for designing, implementing, and maintaining data solutions with a strong focus on SQL databases. You will collaborate with cross-functional teams to gather requirements, design efficient and robust SQL queries, and ensure data integrity and security.\\n\\n \\n\\nResponsibilities:\\n\\n\\n\\n· Collaborate with stakeholders to gather data requirements and translate them into technical specifications.\\n\\n· Build and optimize SQL queries for data ingestion, transformation, and storage.\\n\\n· Utilize Azure Data Factory for data orchestration and workflow automation.\\n\\n· Monitor and troubleshoot SQL databases to ensure performance and availability.\\n\\n· Work closely with data scientists and analysts to support their data needs through optimized SQL queries and reporting tools.\\n\\n· Stay up-to-date with the latest trends and advancements in SQL data engineering and recommend best practices to enhance data solutions.\\n\\n \\n\\nQualifications:\\n\\n\\n\\n· 3+ years of proven experience as a data engineer with a strong focus on SQL.\\n\\n· Strong expertise in C#, SQL and extensive experience with data modeling and database design.\\n\\n· Excellent problem-solving and analytical skills.\\n\\n· Knowledge of data governance and data security principles.\\n\\n· Strong communication and collaboration abilities.\\n\\n· It is desired familiarity with Power Apps.\\n\\n· Ideally, but not mandatory, familiarity with Azure data services such as Azure SQL Database, Azure Data Factory, etc.', additional_kwargs={}, response_metadata={}, id='a2015182-8f87-4bfc-8e1d-14e234e837c8'),\n",
       "  AIMessage(content='', additional_kwargs={'tool_calls': [{'id': '585556856', 'function': {'arguments': '{\"query\":\"SQL database design experience\"}', 'name': 'ChromaDBTool'}, 'type': 'function'}, {'id': '638706666', 'function': {'arguments': '{\"query\":\"C# experience\"}', 'name': 'ChromaDBTool'}, 'type': 'function'}, {'id': '639396153', 'function': {'arguments': '{\"query\":\"Azure Data Factory experience\"}', 'name': 'ChromaDBTool'}, 'type': 'function'}, {'id': '680995616', 'function': {'arguments': '{\"query\":\"data modeling experience\"}', 'name': 'ChromaDBTool'}, 'type': 'function'}, {'id': '464654937', 'function': {'arguments': '{\"query\":\"experience with Power Apps\"}', 'name': 'ChromaDBTool'}, 'type': 'function'}], 'refusal': None}, response_metadata={'token_usage': {'completion_tokens': 178, 'prompt_tokens': 1185, 'total_tokens': 1363, 'completion_tokens_details': None, 'prompt_tokens_details': None}, 'model_name': 'gemma-2-27b-it', 'system_fingerprint': 'gemma-2-27b-it', 'id': 'chatcmpl-h8mx0en0ht43zbh3qkfn1t', 'finish_reason': 'tool_calls', 'logprobs': None}, id='run-2d01b9b1-fe44-4a1e-83ac-79b1b2e9758e-0', tool_calls=[{'name': 'ChromaDBTool', 'args': {'query': 'SQL database design experience'}, 'id': '585556856', 'type': 'tool_call'}, {'name': 'ChromaDBTool', 'args': {'query': 'C# experience'}, 'id': '638706666', 'type': 'tool_call'}, {'name': 'ChromaDBTool', 'args': {'query': 'Azure Data Factory experience'}, 'id': '639396153', 'type': 'tool_call'}, {'name': 'ChromaDBTool', 'args': {'query': 'data modeling experience'}, 'id': '680995616', 'type': 'tool_call'}, {'name': 'ChromaDBTool', 'args': {'query': 'experience with Power Apps'}, 'id': '464654937', 'type': 'tool_call'}], usage_metadata={'input_tokens': 1185, 'output_tokens': 178, 'total_tokens': 1363, 'input_token_details': {}, 'output_token_details': {}}),\n",
       "  ToolMessage(content='[[\"type: job\\\\ncompany: Accenture\\\\nlocation: Argentina\\\\nrole: Data Engineer\\\\nstart_date: 01/08/2024\\\\nend_date: \\\\ndescription: Python, SQL, Javascript, Google sheets. Developed and integrated AI-driven solutions for a large bank, utilizing LangChain and RAGs to enhance LLM capabilities. Implemented voice message processing and structured data queries, improving system response accuracy. Collaborated in Agile sprints, contributing to increased system efficiency and performance. Used Data scraping techniques to gather information for my vector database (chromaDB) and deployed it on Azure using github actions with testing and CI/CD to ensure consistency on the product. Also worked on ETL pipelines to upload and generate a system to detect anomalies in the machine in order to prevent sudden breakdowns\", 1.4754233360290527], [\"type: job\\\\ncompany: Turbodato\\\\nlocation: Argentina\\\\nrole: Data Architect\\\\nstart_date: 01/01/2024\\\\nend_date: 01/12/2024\\\\ndescription: Python, SQL, Azure Database. Designed and built the startup\\\\u2019s backend infrastructure with a focus on scalability and automation. Developed web scraping bots to collect competitive business intelligence for clients like Ita\\\\u00fa Bank and Cebra Jugueter\\\\u00edas. Created interactive dashboards using Power BI, enabling real-time decision-making.\", 1.4990053176879883]]', name='ChromaDBTool', id='4f86cb1a-fb6c-42ec-a641-f767702ebb93', tool_call_id='585556856'),\n",
       "  ToolMessage(content='[[\"type: job\\\\ncompany: Accenture\\\\nlocation: Argentina\\\\nrole: Data Engineer\\\\nstart_date: 01/08/2024\\\\nend_date: \\\\ndescription: Python, SQL, Javascript, Google sheets. Developed and integrated AI-driven solutions for a large bank, utilizing LangChain and RAGs to enhance LLM capabilities. Implemented voice message processing and structured data queries, improving system response accuracy. Collaborated in Agile sprints, contributing to increased system efficiency and performance. Used Data scraping techniques to gather information for my vector database (chromaDB) and deployed it on Azure using github actions with testing and CI/CD to ensure consistency on the product. Also worked on ETL pipelines to upload and generate a system to detect anomalies in the machine in order to prevent sudden breakdowns\", 1.5888159275054932], [\"type: job\\\\ncompany: Better Resume\\\\nlocation: Argentina\\\\nrole: Software Developer\\\\nstart_date: 01/03/2025\\\\nend_date: \\\\ndescription: Python, Vector Database, fastapi. Developed a web app that the user can use to create a resume using LLMs and RAGs to generate a resume tailored to the specific position description. It was built using ChromaDB for the vector database, a locally hosted model and fastapi with a basic javascript frontend. The data is currently stored in a csv so the user can load and modify the data on a familiar format.\", 1.638282299041748]]', name='ChromaDBTool', id='3216b793-a26c-40a8-b80e-cf2a8839751d', tool_call_id='638706666'),\n",
       "  ToolMessage(content='[[\"type: job\\\\ncompany: Accenture\\\\nlocation: Argentina\\\\nrole: Data Engineer\\\\nstart_date: 01/08/2024\\\\nend_date: \\\\ndescription: Python, SQL, Javascript, Google sheets. Developed and integrated AI-driven solutions for a large bank, utilizing LangChain and RAGs to enhance LLM capabilities. Implemented voice message processing and structured data queries, improving system response accuracy. Collaborated in Agile sprints, contributing to increased system efficiency and performance. Used Data scraping techniques to gather information for my vector database (chromaDB) and deployed it on Azure using github actions with testing and CI/CD to ensure consistency on the product. Also worked on ETL pipelines to upload and generate a system to detect anomalies in the machine in order to prevent sudden breakdowns\", 1.0290191173553467], [\"type: job\\\\ncompany: Turbodato\\\\nlocation: Argentina\\\\nrole: Data Architect\\\\nstart_date: 01/01/2024\\\\nend_date: 01/12/2024\\\\ndescription: Python, SQL, Azure Database. Designed and built the startup\\\\u2019s backend infrastructure with a focus on scalability and automation. Developed web scraping bots to collect competitive business intelligence for clients like Ita\\\\u00fa Bank and Cebra Jugueter\\\\u00edas. Created interactive dashboards using Power BI, enabling real-time decision-making.\", 1.093881368637085]]', name='ChromaDBTool', id='35b38596-639f-4d18-a662-30226f925caa', tool_call_id='639396153'),\n",
       "  ToolMessage(content='[[\"type: contract\\\\ncompany: Somos Feed\\\\nlocation: Argentina\\\\nrole: Data Architect\\\\nstart_date: 01/07/2024\\\\nend_date: 01/12/2024\\\\ndescription: Python, Django, Javascript, SQLite. Designed and built the backend infrastructure on Django for the company to automate the process of data gathering from all its different providers. Generated the ETL pipeline to load the information onto the database from google sheet files and created the machine learning algorithm to be trained weekly on the previous week\\'s data to estimate sales and reduce waste, genrating up to a 68% of waste reduction and increasing the benefits of the company by 30%. The solutiopn also freed time of other data scientists in the team that were previously just cleaning data.\", 1.2369258403778076], [\"type: job\\\\ncompany: Accenture\\\\nlocation: Argentina\\\\nrole: Data Engineer\\\\nstart_date: 01/08/2024\\\\nend_date: \\\\ndescription: Python, SQL, Javascript, Google sheets. Developed and integrated AI-driven solutions for a large bank, utilizing LangChain and RAGs to enhance LLM capabilities. Implemented voice message processing and structured data queries, improving system response accuracy. Collaborated in Agile sprints, contributing to increased system efficiency and performance. Used Data scraping techniques to gather information for my vector database (chromaDB) and deployed it on Azure using github actions with testing and CI/CD to ensure consistency on the product. Also worked on ETL pipelines to upload and generate a system to detect anomalies in the machine in order to prevent sudden breakdowns\", 1.3902695178985596]]', name='ChromaDBTool', id='c7399500-e40e-4ef8-bacc-7ca00e793757', tool_call_id='680995616'),\n",
       "  ToolMessage(content='[[\"type: non-profit\\\\ncompany: CEITBA\\\\nlocation: Argentina\\\\nrole: Lead Developer\\\\nstart_date: 01/03/2021\\\\nend_date: 01/03/2025\\\\ndescription: Python, Javascript, React, Dart, Flutter. Led a team of five in developing a Flutter-based mobile application for CEITBA, utilizing Firebase and Google Cloud for scalability. Automated administrative tasks with AI-based tools, optimizing student registrations, withdrawals, and query responses.\", 1.29900324344635], [\"type: job\\\\ncompany: Turbodato\\\\nlocation: Argentina\\\\nrole: Data Architect\\\\nstart_date: 01/01/2024\\\\nend_date: 01/12/2024\\\\ndescription: Python, SQL, Azure Database. Designed and built the startup\\\\u2019s backend infrastructure with a focus on scalability and automation. Developed web scraping bots to collect competitive business intelligence for clients like Ita\\\\u00fa Bank and Cebra Jugueter\\\\u00edas. Created interactive dashboards using Power BI, enabling real-time decision-making.\", 1.391035556793213]]', name='ChromaDBTool', id='18f5738e-9aed-490f-ad74-61772513bb7b', tool_call_id='464654937'),\n",
       "  AIMessage(content='```json\\n{\\n  \"resume_section\": {\\n    \"title\": \"Azure & SQL Data Engineer\",\\n    \"experience\": [\\n      {\\n        \"position\": \"Data Engineer\",\\n        \"company\": \"Accenture\",\\n        \"location\": \"Argentina\",\\n        \"start_date\": \"01/08/2024\",\\n        \"end_date\": \"Present\",\\n        \"description\": \"Developed and integrated AI-driven solutions for a large bank, utilizing LangChain and RAGs to enhance LLM capabilities. Implemented voice message processing and structured data queries, improving system response accuracy. Collaborated in Agile sprints, contributing to increased system efficiency and performance. Used Data scraping techniques to gather information for my vector database (chromaDB) and deployed it on Azure using github actions with testing and CI/CD to ensure consistency on the product. Also worked on ETL pipelines to upload and generate a system to detect anomalies in the machine in order to prevent sudden breakdowns\"\\n      },\\n      {\\n        \"position\": \"Data Architect\",\\n        \"company\": \"Turbodato\",\\n        \"location\": \"Argentina\",\\n        \"start_date\": \"01/01/2024\",\\n        \"end_date\": \"01/12/2024\",\\n        \"description\": \"Designed and built the startup’s backend infrastructure with a focus on scalability and automation. Developed web scraping bots to collect competitive business intelligence for clients like Itaú Bank and Cebra Jugueterías. Created interactive dashboards using Power BI, enabling real-time decision-making.\"\\n      },\\n      {\\n        \"position\": \"Lead Developer\",\\n        \"company\": \"CEITBA\",\\n        \"location\": \"Argentina\",\\n        \"start_date\": \"01/03/2021\",\\n        \"end_date\": \"01/03/2025\",\\n        \"description\": \"Led a team of five in developing a Flutter-based mobile application for CEITBA, utilizing Firebase and Google Cloud for scalability. Automated administrative tasks with AI-based tools, optimizing student registrations, withdrawals, and query responses.\"\\n      }\\n\\n    ],\\n    \"skills\": {\\n      \"languages\": [\"Python\", \"Javascript\", \"SQL\"],\\n      \"databases\": [\"Azure SQL Database\", \"SQLite\"],\\n      \"tools_and_technologies\": [\"LangChain\", \"RAGs\",\"Power BI\",\"Flutter\",\"Firebase\",\"Google Cloud\",\"Django\",\"chromaDB\", \"github actions\",\"CI/CD\"]\\n    }\\n  }\\n}\\n```', additional_kwargs={'refusal': None}, response_metadata={'token_usage': {'completion_tokens': 551, 'prompt_tokens': 3097, 'total_tokens': 3648, 'completion_tokens_details': None, 'prompt_tokens_details': None}, 'model_name': 'gemma-2-27b-it', 'system_fingerprint': 'gemma-2-27b-it', 'id': 'chatcmpl-5z3w7lzdbwfi6fccpnaggq', 'finish_reason': 'stop', 'logprobs': None}, id='run-f56d5b24-b1e1-4e01-9aec-3408ecc262f4-0', usage_metadata={'input_tokens': 3097, 'output_tokens': 551, 'total_tokens': 3648, 'input_token_details': {}, 'output_token_details': {}})]}"
      ]
     },
     "execution_count": 12,
     "metadata": {},
     "output_type": "execute_result"
    }
   ],
   "source": [
    "response\n"
   ]
  }
 ],
 "metadata": {
  "kernelspec": {
   "display_name": ".conda",
   "language": "python",
   "name": "python3"
  },
  "language_info": {
   "codemirror_mode": {
    "name": "ipython",
    "version": 3
   },
   "file_extension": ".py",
   "mimetype": "text/x-python",
   "name": "python",
   "nbconvert_exporter": "python",
   "pygments_lexer": "ipython3",
   "version": "3.12.9"
  }
 },
 "nbformat": 4,
 "nbformat_minor": 2
}
